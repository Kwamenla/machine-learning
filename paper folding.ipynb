{
 "cells": [
  {
   "cell_type": "code",
   "execution_count": 2,
   "id": "4fb6f5db",
   "metadata": {},
   "outputs": [
    {
     "name": "stdout",
     "output_type": "stream",
     "text": [
      "The minimum number of folds over Mt.Fuji is 26 times.\n"
     ]
    }
   ],
   "source": [
    "thickness = 0.00008\n",
    "mfuji_height = 3776\n",
    "nbr_of_folds = 0\n",
    "new_thickness = thickness * 2**nbr_of_folds\n",
    "while new_thickness <= mfuji_height:\n",
    "    nbr_of_folds += 1\n",
    "    new_thickness = thickness * 2**nbr_of_folds\n",
    "print(\"The minimum number of folds over Mt.Fuji is {} times.\" .format(nbr_of_folds))"
   ]
  },
  {
   "cell_type": "code",
   "execution_count": 3,
   "id": "7dbc4220",
   "metadata": {},
   "outputs": [
    {
     "name": "stdout",
     "output_type": "stream",
     "text": [
      "The number of paper folds are25.897353 times\n"
     ]
    }
   ],
   "source": [
    "import math\n",
    "def arbitrary_tickness(distance):\n",
    "    thickness = 0.00008\n",
    "    times = math.log2(distance/thickness)\n",
    "    return times\n",
    "print (\"The number of paper folds are{:2f} times\".format(arbitrary_tickness(5000)))"
   ]
  },
  {
   "cell_type": "code",
   "execution_count": 8,
   "id": "9f0cdf00",
   "metadata": {},
   "outputs": [
    {
     "data": {
      "text/plain": [
       "'The length of paper needed to reach out to 3000 meters is 58,904,866,967 meters'"
      ]
     },
     "execution_count": 8,
     "metadata": {},
     "output_type": "execute_result"
    }
   ],
   "source": [
    "def paper_legth(distance):\n",
    "    thickness = 0.00008\n",
    "    n = arbitrary_tickness(distance)\n",
    "    l= (thickness*math.pi)/6*(2**n+4)*(2**n - 1)\n",
    "    return f'The length of paper needed to reach out to {distance} meters is {round(l):,} meters'\n",
    "paper_legth(3000)"
   ]
  },
  {
   "cell_type": "code",
   "execution_count": 10,
   "id": "88f6085c",
   "metadata": {},
   "outputs": [
    {
     "data": {
      "text/plain": [
       "'The length of paper needed to reach out to 384400000 meters is 967,108,929,679,232,729,088 meters'"
      ]
     },
     "execution_count": 10,
     "metadata": {},
     "output_type": "execute_result"
    }
   ],
   "source": [
    "# length of paper needed to reach the Moon\n",
    "paper_legth(384400000)"
   ]
  },
  {
   "cell_type": "code",
   "execution_count": 11,
   "id": "c2ee87ba",
   "metadata": {},
   "outputs": [
    {
     "data": {
      "text/plain": [
       "'The length of paper needed to reach out to 3776 meters is 93,319,549,630 meters'"
      ]
     },
     "execution_count": 11,
     "metadata": {},
     "output_type": "execute_result"
    }
   ],
   "source": [
    "#length of paper needed to reach the Mt.Fuji\n",
    "paper_legth(3776)"
   ]
  },
  {
   "cell_type": "code",
   "execution_count": 12,
   "id": "93a480aa",
   "metadata": {},
   "outputs": [
    {
     "data": {
      "text/plain": [
       "'The length of paper needed to reach out to 2500000 meters is 40,906,154,347,544,088 meters'"
      ]
     },
     "execution_count": 12,
     "metadata": {},
     "output_type": "execute_result"
    }
   ],
   "source": [
    "#length of paper needed to reach the the stars closest to the sun\n",
    "paper_legth(2500000)"
   ]
  },
  {
   "cell_type": "code",
   "execution_count": null,
   "id": "3d448c18",
   "metadata": {},
   "outputs": [],
   "source": []
  }
 ],
 "metadata": {
  "kernelspec": {
   "display_name": "Python 3 (ipykernel)",
   "language": "python",
   "name": "python3"
  },
  "language_info": {
   "codemirror_mode": {
    "name": "ipython",
    "version": 3
   },
   "file_extension": ".py",
   "mimetype": "text/x-python",
   "name": "python",
   "nbconvert_exporter": "python",
   "pygments_lexer": "ipython3",
   "version": "3.9.12"
  }
 },
 "nbformat": 4,
 "nbformat_minor": 5
}
