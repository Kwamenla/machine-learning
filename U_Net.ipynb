{
  "nbformat": 4,
  "nbformat_minor": 0,
  "metadata": {
    "colab": {
      "provenance": []
    },
    "kernelspec": {
      "name": "python3",
      "display_name": "Python 3"
    },
    "language_info": {
      "name": "python"
    }
  },
  "cells": [
    {
      "cell_type": "code",
      "execution_count": null,
      "metadata": {
        "id": "fv65uRBjU4Wg"
      },
      "outputs": [],
      "source": [
        "from google.colab import drive\n",
        "drive.mount('/content/drive')"
      ]
    },
    {
      "cell_type": "code",
      "source": [
        "!git clone https://github.comunet.git"
      ],
      "metadata": {
        "id": "hQ_ImnccU7Dv"
      },
      "execution_count": null,
      "outputs": []
    },
    {
      "cell_type": "code",
      "source": [
        "cd drive/MyDrive/unet"
      ],
      "metadata": {
        "id": "cZp0Y0eyU7LK"
      },
      "execution_count": null,
      "outputs": []
    },
    {
      "cell_type": "code",
      "source": [
        "!python main.py"
      ],
      "metadata": {
        "id": "s_iJVm0PU7Rg"
      },
      "execution_count": null,
      "outputs": []
    },
    {
      "cell_type": "code",
      "source": [
        "from model import *\n",
        "from data import *\n",
        "\n",
        "data_gen_args = dict(rotation_range=0.2,\n",
        "                     width_shift_range=0.05,\n",
        "                     height_shift_range=0.05,\n",
        "                     shear_range=0.05,\n",
        "                     zoom_range=0.05,\n",
        "                     horizontal_flip=True,\n",
        "                     fill_mode='nearest')\n",
        "\n",
        "myGene = trainGenerator(20,\n",
        "                        'data/membrane/train',\n",
        "                        'image',\n",
        "                        'label',\n",
        "                        data_gen_args,\n",
        "                        save_to_dir = None)\n",
        "\n",
        "model = unet()\n",
        "model_checkpoint = ModelCheckpoint('unet_salt.hdf5',\n",
        "                                   monitor='loss',\n",
        "                                   verbose=1,\n",
        "                                   save_best_only=True)\n",
        "\n",
        "model.fit_generator(myGene,\n",
        "                    steps_per_epoch=10,\n",
        "                    epochs=5,\n",
        "                    callbacks=[model_checkpoint])"
      ],
      "metadata": {
        "id": "DvvWDfqcU7XU"
      },
      "execution_count": null,
      "outputs": []
    },
    {
      "cell_type": "code",
      "source": [
        "gene = testGenerator('data/membrane/test')\n",
        "unet = unet()\n",
        "unet.load_weights('unet_salt.hdf5')\n",
        "pred = model.predict_generator(gene,10,verbose=1)\n",
        "saveResult(\"data/membrane/test\",pred)"
      ],
      "metadata": {
        "id": "OIiK_HnlVKMv"
      },
      "execution_count": null,
      "outputs": []
    },
    {
      "cell_type": "markdown",
      "source": [
        "- In this paper, we present a network and training strategy that relies on the strong\n",
        "use of data augmentation to use the available annotated samples more\n",
        "efficiently.\n",
        "\n",
        "- This network is based on a fully convolutional network, it also uses many layers and in this network pooling operations are replaced with upsampling operators"
      ],
      "metadata": {
        "id": "o465tL77VaKv"
      }
    }
  ]
}